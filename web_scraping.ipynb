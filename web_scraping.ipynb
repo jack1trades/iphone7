{
 "cells": [
  {
   "cell_type": "code",
   "execution_count": 1,
   "metadata": {},
   "outputs": [
    {
     "name": "stdout",
     "output_type": "stream",
     "text": [
      "Requirement already satisfied: bs4 in c:\\programdata\\anaconda3\\lib\\site-packages (0.0.1)\n",
      "Requirement already satisfied: beautifulsoup4 in c:\\programdata\\anaconda3\\lib\\site-packages (from bs4) (4.9.3)\n",
      "Requirement already satisfied: soupsieve>1.2; python_version >= \"3.0\" in c:\\programdata\\anaconda3\\lib\\site-packages (from beautifulsoup4->bs4) (2.0.1)\n",
      "Requirement already satisfied: requests in c:\\programdata\\anaconda3\\lib\\site-packages (2.24.0)\n",
      "Requirement already satisfied: certifi>=2017.4.17 in c:\\programdata\\anaconda3\\lib\\site-packages (from requests) (2020.6.20)\n",
      "Requirement already satisfied: chardet<4,>=3.0.2 in c:\\programdata\\anaconda3\\lib\\site-packages (from requests) (3.0.4)\n",
      "Requirement already satisfied: idna<3,>=2.5 in c:\\programdata\\anaconda3\\lib\\site-packages (from requests) (2.10)\n",
      "Requirement already satisfied: urllib3!=1.25.0,!=1.25.1,<1.26,>=1.21.1 in c:\\programdata\\anaconda3\\lib\\site-packages (from requests) (1.25.11)\n"
     ]
    }
   ],
   "source": [
    "!pip install bs4\n",
    "!pip install requests"
   ]
  },
  {
   "cell_type": "code",
   "execution_count": 2,
   "metadata": {},
   "outputs": [],
   "source": [
    "from bs4 import BeautifulSoup as bs\n",
    "import requests"
   ]
  },
  {
   "cell_type": "code",
   "execution_count": 3,
   "metadata": {},
   "outputs": [],
   "source": [
    "HEADERS = ({'User-Agent':'Mozilla/5.0 (X11; Linux x86_64) AppleWebKit/537.36 (KHTML, like Gecko) Chrome/44.0.2403.157 Safari/537.36',\n",
    "                           'Accept-Language': 'en-US, en;q=0.5'})"
   ]
  },
  {
   "cell_type": "code",
   "execution_count": 4,
   "metadata": {},
   "outputs": [],
   "source": [
    "cust_name=[]\n",
    "review_title=[]\n",
    "review_date=[]\n",
    "ratings=[]\n",
    "review_content=[]\n"
   ]
  },
  {
   "cell_type": "code",
   "execution_count": 5,
   "metadata": {},
   "outputs": [],
   "source": [
    "pages=list(range(0,446))\n",
    "for i in pages:\n",
    "    link='https://www.amazon.in/Apple-iPhone-Black-32GB-Storage/product-reviews/B01LZKSVRB/ref=cm_cr_getr_d_paging_btm_next_=?ie=UTF8&reviewerType=all_reviews&pageNumber='+str(i)\n",
    "    request=requests.get(link,headers=HEADERS)\n",
    "    soup=bs(request.content,'lxml')\n",
    "    \n",
    "    #extracting customer name\n",
    "    names=soup.find_all(\"span\",attrs={\"class\":\"a-profile-name\"})\n",
    "    for j in range(0,len(names)):\n",
    "        cust_name.append(names[j].get_text())\n",
    "    \n",
    "    #extracting review_title\n",
    "    title=soup.find_all('a',attrs={\"class\":\"review-title\"})\n",
    "    review_title=[]\n",
    "    for j in range(0,len(title)):\n",
    "        review_title.append(title[j].get_text())\n",
    "        \n",
    "    #extracting review_date\n",
    "    date=soup.find_all(\"span\",class_=\"a-size-base a-color-secondary review-date\")\n",
    "    for j in range(0,len(date)):\n",
    "        review_date.append(date[j].get_text())\n",
    "        \n",
    "    # extracting review ratings\n",
    "    rating=soup.find_all('i',class_='review-rating')\n",
    "    for j in range(0,len(rating)):\n",
    "        ratings.append(rating[j].get_text())\n",
    "        \n",
    "    # extracting reviews\n",
    "    reviews=soup.find_all('span',{'data-hook':'review-body'})\n",
    "    for j in range(0,len(reviews)):\n",
    "        review_content.append(reviews[j].get_text())"
   ]
  },
  {
   "cell_type": "code",
   "execution_count": 6,
   "metadata": {},
   "outputs": [
    {
     "data": {
      "text/plain": [
       "['Buy iPhone SE 2020\\n',\n",
       " 'Good\\n',\n",
       " 'Great phone...\\n',\n",
       " 'Good\\n',\n",
       " 'Wow\\n',\n",
       " 'Pros & Cons\\n',\n",
       " 'In just three months phone developed Hardware problems\\n',\n",
       " 'Not worth it in 2021\\n',\n",
       " 'Not good for the price\\n',\n",
       " 'Poor performance\\n']"
      ]
     },
     "execution_count": 6,
     "metadata": {},
     "output_type": "execute_result"
    }
   ],
   "source": [
    "review_title[:]=[titles.lstrip('\\n') for titles in review_title]\n",
    "review_title"
   ]
  },
  {
   "cell_type": "code",
   "execution_count": 7,
   "metadata": {},
   "outputs": [
    {
     "data": {
      "text/plain": [
       "['Buy iPhone SE 2020',\n",
       " 'Good',\n",
       " 'Great phone...',\n",
       " 'Good',\n",
       " 'Wow',\n",
       " 'Pros & Cons',\n",
       " 'In just three months phone developed Hardware problems',\n",
       " 'Not worth it in 2021',\n",
       " 'Not good for the price',\n",
       " 'Poor performance']"
      ]
     },
     "execution_count": 7,
     "metadata": {},
     "output_type": "execute_result"
    }
   ],
   "source": [
    "review_title[:]=[titles.rstrip('\\n') for titles in review_title]\n",
    "review_title"
   ]
  },
  {
   "cell_type": "code",
   "execution_count": 8,
   "metadata": {},
   "outputs": [],
   "source": [
    "review_date[:]=[date.lstrip('Reviewed in India on') for date in review_date]\n",
    "#review_date"
   ]
  },
  {
   "cell_type": "code",
   "execution_count": 9,
   "metadata": {},
   "outputs": [],
   "source": [
    "review_content[:]=[review.lstrip('\\n') for review in review_content]\n",
    "#review_content"
   ]
  },
  {
   "cell_type": "code",
   "execution_count": 10,
   "metadata": {},
   "outputs": [],
   "source": [
    "review_content[:]=[review.rstrip('\\n\\n') for review in review_content]\n",
    "#review_content"
   ]
  },
  {
   "cell_type": "code",
   "execution_count": 11,
   "metadata": {},
   "outputs": [
    {
     "data": {
      "text/plain": [
       "4460"
      ]
     },
     "execution_count": 11,
     "metadata": {},
     "output_type": "execute_result"
    }
   ],
   "source": [
    "len(review_content)"
   ]
  },
  {
   "cell_type": "code",
   "execution_count": 12,
   "metadata": {},
   "outputs": [],
   "source": [
    "import pandas as pd"
   ]
  },
  {
   "cell_type": "code",
   "execution_count": 13,
   "metadata": {},
   "outputs": [],
   "source": [
    "df=pd.DataFrame()"
   ]
  },
  {
   "cell_type": "code",
   "execution_count": 14,
   "metadata": {},
   "outputs": [],
   "source": [
    "df['Customer_name']=cust_name\n",
    "#df['Review_title']=review_title\n",
    "df['Reviewed_date']=review_date\n",
    "df['Ratings']=ratings\n",
    "#df['Reviews']=review_content"
   ]
  },
  {
   "cell_type": "code",
   "execution_count": 15,
   "metadata": {},
   "outputs": [
    {
     "data": {
      "text/html": [
       "<div>\n",
       "<style scoped>\n",
       "    .dataframe tbody tr th:only-of-type {\n",
       "        vertical-align: middle;\n",
       "    }\n",
       "\n",
       "    .dataframe tbody tr th {\n",
       "        vertical-align: top;\n",
       "    }\n",
       "\n",
       "    .dataframe thead th {\n",
       "        text-align: right;\n",
       "    }\n",
       "</style>\n",
       "<table border=\"1\" class=\"dataframe\">\n",
       "  <thead>\n",
       "    <tr style=\"text-align: right;\">\n",
       "      <th></th>\n",
       "      <th>Customer_name</th>\n",
       "      <th>Reviewed_date</th>\n",
       "      <th>Ratings</th>\n",
       "    </tr>\n",
       "  </thead>\n",
       "  <tbody>\n",
       "    <tr>\n",
       "      <th>0</th>\n",
       "      <td>Bharath Kumar</td>\n",
       "      <td>7 March 2019</td>\n",
       "      <td>5.0 out of 5 stars</td>\n",
       "    </tr>\n",
       "    <tr>\n",
       "      <th>1</th>\n",
       "      <td>jaywant</td>\n",
       "      <td>29 October 2018</td>\n",
       "      <td>1.0 out of 5 stars</td>\n",
       "    </tr>\n",
       "    <tr>\n",
       "      <th>2</th>\n",
       "      <td>jaywant</td>\n",
       "      <td>29 October 2018</td>\n",
       "      <td>1.0 out of 5 stars</td>\n",
       "    </tr>\n",
       "    <tr>\n",
       "      <th>3</th>\n",
       "      <td>Bharath Kumar</td>\n",
       "      <td>7 March 2019</td>\n",
       "      <td>5.0 out of 5 stars</td>\n",
       "    </tr>\n",
       "    <tr>\n",
       "      <th>4</th>\n",
       "      <td>Utpal Das</td>\n",
       "      <td>13 November 2018</td>\n",
       "      <td>5.0 out of 5 stars</td>\n",
       "    </tr>\n",
       "    <tr>\n",
       "      <th>...</th>\n",
       "      <td>...</td>\n",
       "      <td>...</td>\n",
       "      <td>...</td>\n",
       "    </tr>\n",
       "    <tr>\n",
       "      <th>5347</th>\n",
       "      <td>Jijo</td>\n",
       "      <td>28 May 2020</td>\n",
       "      <td>5.0 out of 5 stars</td>\n",
       "    </tr>\n",
       "    <tr>\n",
       "      <th>5348</th>\n",
       "      <td>S. G.</td>\n",
       "      <td>17 April 2021</td>\n",
       "      <td>1.0 out of 5 stars</td>\n",
       "    </tr>\n",
       "    <tr>\n",
       "      <th>5349</th>\n",
       "      <td>Valentino Pereira</td>\n",
       "      <td>9 May 2021</td>\n",
       "      <td>4.0 out of 5 stars</td>\n",
       "    </tr>\n",
       "    <tr>\n",
       "      <th>5350</th>\n",
       "      <td>Madhulika</td>\n",
       "      <td>27 April 2021</td>\n",
       "      <td>5.0 out of 5 stars</td>\n",
       "    </tr>\n",
       "    <tr>\n",
       "      <th>5351</th>\n",
       "      <td>Tushar_Amazon</td>\n",
       "      <td>31 March 2021</td>\n",
       "      <td>3.0 out of 5 stars</td>\n",
       "    </tr>\n",
       "  </tbody>\n",
       "</table>\n",
       "<p>5352 rows × 3 columns</p>\n",
       "</div>"
      ],
      "text/plain": [
       "          Customer_name     Reviewed_date             Ratings\n",
       "0         Bharath Kumar      7 March 2019  5.0 out of 5 stars\n",
       "1               jaywant   29 October 2018  1.0 out of 5 stars\n",
       "2               jaywant   29 October 2018  1.0 out of 5 stars\n",
       "3         Bharath Kumar      7 March 2019  5.0 out of 5 stars\n",
       "4             Utpal Das  13 November 2018  5.0 out of 5 stars\n",
       "...                 ...               ...                 ...\n",
       "5347               Jijo       28 May 2020  5.0 out of 5 stars\n",
       "5348              S. G.     17 April 2021  1.0 out of 5 stars\n",
       "5349  Valentino Pereira        9 May 2021  4.0 out of 5 stars\n",
       "5350          Madhulika     27 April 2021  5.0 out of 5 stars\n",
       "5351      Tushar_Amazon     31 March 2021  3.0 out of 5 stars\n",
       "\n",
       "[5352 rows x 3 columns]"
      ]
     },
     "execution_count": 15,
     "metadata": {},
     "output_type": "execute_result"
    }
   ],
   "source": [
    "df"
   ]
  },
  {
   "cell_type": "code",
   "execution_count": 16,
   "metadata": {},
   "outputs": [],
   "source": [
    "df1=pd.DataFrame()"
   ]
  },
  {
   "cell_type": "code",
   "execution_count": 17,
   "metadata": {},
   "outputs": [],
   "source": [
    "df1['Reviews']=review_content"
   ]
  },
  {
   "cell_type": "code",
   "execution_count": 18,
   "metadata": {},
   "outputs": [],
   "source": [
    "new = pd.concat([df,df1], ignore_index=False, axis=1)"
   ]
  },
  {
   "cell_type": "code",
   "execution_count": 19,
   "metadata": {},
   "outputs": [
    {
     "data": {
      "text/html": [
       "<div>\n",
       "<style scoped>\n",
       "    .dataframe tbody tr th:only-of-type {\n",
       "        vertical-align: middle;\n",
       "    }\n",
       "\n",
       "    .dataframe tbody tr th {\n",
       "        vertical-align: top;\n",
       "    }\n",
       "\n",
       "    .dataframe thead th {\n",
       "        text-align: right;\n",
       "    }\n",
       "</style>\n",
       "<table border=\"1\" class=\"dataframe\">\n",
       "  <thead>\n",
       "    <tr style=\"text-align: right;\">\n",
       "      <th></th>\n",
       "      <th>Customer_name</th>\n",
       "      <th>Reviewed_date</th>\n",
       "      <th>Ratings</th>\n",
       "      <th>Reviews</th>\n",
       "    </tr>\n",
       "  </thead>\n",
       "  <tbody>\n",
       "    <tr>\n",
       "      <th>0</th>\n",
       "      <td>Bharath Kumar</td>\n",
       "      <td>7 March 2019</td>\n",
       "      <td>5.0 out of 5 stars</td>\n",
       "      <td>i received defective iphone 7 32GB silver co...</td>\n",
       "    </tr>\n",
       "    <tr>\n",
       "      <th>1</th>\n",
       "      <td>jaywant</td>\n",
       "      <td>29 October 2018</td>\n",
       "      <td>1.0 out of 5 stars</td>\n",
       "      <td>Thanks for Amazon service. phone is very nic...</td>\n",
       "    </tr>\n",
       "    <tr>\n",
       "      <th>2</th>\n",
       "      <td>jaywant</td>\n",
       "      <td>29 October 2018</td>\n",
       "      <td>1.0 out of 5 stars</td>\n",
       "      <td>Redmi phones cameras are great, of course iP...</td>\n",
       "    </tr>\n",
       "    <tr>\n",
       "      <th>3</th>\n",
       "      <td>Bharath Kumar</td>\n",
       "      <td>7 March 2019</td>\n",
       "      <td>5.0 out of 5 stars</td>\n",
       "      <td>If you are an apple fan !! This is a true be...</td>\n",
       "    </tr>\n",
       "    <tr>\n",
       "      <th>4</th>\n",
       "      <td>Utpal Das</td>\n",
       "      <td>13 November 2018</td>\n",
       "      <td>5.0 out of 5 stars</td>\n",
       "      <td>in 20 days i found my battery health 98% whi...</td>\n",
       "    </tr>\n",
       "    <tr>\n",
       "      <th>...</th>\n",
       "      <td>...</td>\n",
       "      <td>...</td>\n",
       "      <td>...</td>\n",
       "      <td>...</td>\n",
       "    </tr>\n",
       "    <tr>\n",
       "      <th>5347</th>\n",
       "      <td>Jijo</td>\n",
       "      <td>28 May 2020</td>\n",
       "      <td>5.0 out of 5 stars</td>\n",
       "      <td>NaN</td>\n",
       "    </tr>\n",
       "    <tr>\n",
       "      <th>5348</th>\n",
       "      <td>S. G.</td>\n",
       "      <td>17 April 2021</td>\n",
       "      <td>1.0 out of 5 stars</td>\n",
       "      <td>NaN</td>\n",
       "    </tr>\n",
       "    <tr>\n",
       "      <th>5349</th>\n",
       "      <td>Valentino Pereira</td>\n",
       "      <td>9 May 2021</td>\n",
       "      <td>4.0 out of 5 stars</td>\n",
       "      <td>NaN</td>\n",
       "    </tr>\n",
       "    <tr>\n",
       "      <th>5350</th>\n",
       "      <td>Madhulika</td>\n",
       "      <td>27 April 2021</td>\n",
       "      <td>5.0 out of 5 stars</td>\n",
       "      <td>NaN</td>\n",
       "    </tr>\n",
       "    <tr>\n",
       "      <th>5351</th>\n",
       "      <td>Tushar_Amazon</td>\n",
       "      <td>31 March 2021</td>\n",
       "      <td>3.0 out of 5 stars</td>\n",
       "      <td>NaN</td>\n",
       "    </tr>\n",
       "  </tbody>\n",
       "</table>\n",
       "<p>5352 rows × 4 columns</p>\n",
       "</div>"
      ],
      "text/plain": [
       "          Customer_name     Reviewed_date             Ratings  \\\n",
       "0         Bharath Kumar      7 March 2019  5.0 out of 5 stars   \n",
       "1               jaywant   29 October 2018  1.0 out of 5 stars   \n",
       "2               jaywant   29 October 2018  1.0 out of 5 stars   \n",
       "3         Bharath Kumar      7 March 2019  5.0 out of 5 stars   \n",
       "4             Utpal Das  13 November 2018  5.0 out of 5 stars   \n",
       "...                 ...               ...                 ...   \n",
       "5347               Jijo       28 May 2020  5.0 out of 5 stars   \n",
       "5348              S. G.     17 April 2021  1.0 out of 5 stars   \n",
       "5349  Valentino Pereira        9 May 2021  4.0 out of 5 stars   \n",
       "5350          Madhulika     27 April 2021  5.0 out of 5 stars   \n",
       "5351      Tushar_Amazon     31 March 2021  3.0 out of 5 stars   \n",
       "\n",
       "                                                Reviews  \n",
       "0       i received defective iphone 7 32GB silver co...  \n",
       "1       Thanks for Amazon service. phone is very nic...  \n",
       "2       Redmi phones cameras are great, of course iP...  \n",
       "3       If you are an apple fan !! This is a true be...  \n",
       "4       in 20 days i found my battery health 98% whi...  \n",
       "...                                                 ...  \n",
       "5347                                                NaN  \n",
       "5348                                                NaN  \n",
       "5349                                                NaN  \n",
       "5350                                                NaN  \n",
       "5351                                                NaN  \n",
       "\n",
       "[5352 rows x 4 columns]"
      ]
     },
     "execution_count": 19,
     "metadata": {},
     "output_type": "execute_result"
    }
   ],
   "source": [
    "new"
   ]
  },
  {
   "cell_type": "code",
   "execution_count": 20,
   "metadata": {},
   "outputs": [],
   "source": [
    "df3=pd.DataFrame()"
   ]
  },
  {
   "cell_type": "code",
   "execution_count": 21,
   "metadata": {},
   "outputs": [],
   "source": [
    "df3['Review_title']=review_title"
   ]
  },
  {
   "cell_type": "code",
   "execution_count": 22,
   "metadata": {},
   "outputs": [],
   "source": [
    "new_data = pd.concat([new,df3], ignore_index=False, axis=1)"
   ]
  },
  {
   "cell_type": "code",
   "execution_count": 23,
   "metadata": {},
   "outputs": [
    {
     "data": {
      "text/html": [
       "<div>\n",
       "<style scoped>\n",
       "    .dataframe tbody tr th:only-of-type {\n",
       "        vertical-align: middle;\n",
       "    }\n",
       "\n",
       "    .dataframe tbody tr th {\n",
       "        vertical-align: top;\n",
       "    }\n",
       "\n",
       "    .dataframe thead th {\n",
       "        text-align: right;\n",
       "    }\n",
       "</style>\n",
       "<table border=\"1\" class=\"dataframe\">\n",
       "  <thead>\n",
       "    <tr style=\"text-align: right;\">\n",
       "      <th></th>\n",
       "      <th>Customer_name</th>\n",
       "      <th>Reviewed_date</th>\n",
       "      <th>Ratings</th>\n",
       "      <th>Reviews</th>\n",
       "      <th>Review_title</th>\n",
       "    </tr>\n",
       "  </thead>\n",
       "  <tbody>\n",
       "    <tr>\n",
       "      <th>0</th>\n",
       "      <td>Bharath Kumar</td>\n",
       "      <td>7 March 2019</td>\n",
       "      <td>5.0 out of 5 stars</td>\n",
       "      <td>i received defective iphone 7 32GB silver co...</td>\n",
       "      <td>Buy iPhone SE 2020</td>\n",
       "    </tr>\n",
       "    <tr>\n",
       "      <th>1</th>\n",
       "      <td>jaywant</td>\n",
       "      <td>29 October 2018</td>\n",
       "      <td>1.0 out of 5 stars</td>\n",
       "      <td>Thanks for Amazon service. phone is very nic...</td>\n",
       "      <td>Good</td>\n",
       "    </tr>\n",
       "    <tr>\n",
       "      <th>2</th>\n",
       "      <td>jaywant</td>\n",
       "      <td>29 October 2018</td>\n",
       "      <td>1.0 out of 5 stars</td>\n",
       "      <td>Redmi phones cameras are great, of course iP...</td>\n",
       "      <td>Great phone...</td>\n",
       "    </tr>\n",
       "    <tr>\n",
       "      <th>3</th>\n",
       "      <td>Bharath Kumar</td>\n",
       "      <td>7 March 2019</td>\n",
       "      <td>5.0 out of 5 stars</td>\n",
       "      <td>If you are an apple fan !! This is a true be...</td>\n",
       "      <td>Good</td>\n",
       "    </tr>\n",
       "    <tr>\n",
       "      <th>4</th>\n",
       "      <td>Utpal Das</td>\n",
       "      <td>13 November 2018</td>\n",
       "      <td>5.0 out of 5 stars</td>\n",
       "      <td>in 20 days i found my battery health 98% whi...</td>\n",
       "      <td>Wow</td>\n",
       "    </tr>\n",
       "    <tr>\n",
       "      <th>...</th>\n",
       "      <td>...</td>\n",
       "      <td>...</td>\n",
       "      <td>...</td>\n",
       "      <td>...</td>\n",
       "      <td>...</td>\n",
       "    </tr>\n",
       "    <tr>\n",
       "      <th>5347</th>\n",
       "      <td>Jijo</td>\n",
       "      <td>28 May 2020</td>\n",
       "      <td>5.0 out of 5 stars</td>\n",
       "      <td>NaN</td>\n",
       "      <td>NaN</td>\n",
       "    </tr>\n",
       "    <tr>\n",
       "      <th>5348</th>\n",
       "      <td>S. G.</td>\n",
       "      <td>17 April 2021</td>\n",
       "      <td>1.0 out of 5 stars</td>\n",
       "      <td>NaN</td>\n",
       "      <td>NaN</td>\n",
       "    </tr>\n",
       "    <tr>\n",
       "      <th>5349</th>\n",
       "      <td>Valentino Pereira</td>\n",
       "      <td>9 May 2021</td>\n",
       "      <td>4.0 out of 5 stars</td>\n",
       "      <td>NaN</td>\n",
       "      <td>NaN</td>\n",
       "    </tr>\n",
       "    <tr>\n",
       "      <th>5350</th>\n",
       "      <td>Madhulika</td>\n",
       "      <td>27 April 2021</td>\n",
       "      <td>5.0 out of 5 stars</td>\n",
       "      <td>NaN</td>\n",
       "      <td>NaN</td>\n",
       "    </tr>\n",
       "    <tr>\n",
       "      <th>5351</th>\n",
       "      <td>Tushar_Amazon</td>\n",
       "      <td>31 March 2021</td>\n",
       "      <td>3.0 out of 5 stars</td>\n",
       "      <td>NaN</td>\n",
       "      <td>NaN</td>\n",
       "    </tr>\n",
       "  </tbody>\n",
       "</table>\n",
       "<p>5352 rows × 5 columns</p>\n",
       "</div>"
      ],
      "text/plain": [
       "          Customer_name     Reviewed_date             Ratings  \\\n",
       "0         Bharath Kumar      7 March 2019  5.0 out of 5 stars   \n",
       "1               jaywant   29 October 2018  1.0 out of 5 stars   \n",
       "2               jaywant   29 October 2018  1.0 out of 5 stars   \n",
       "3         Bharath Kumar      7 March 2019  5.0 out of 5 stars   \n",
       "4             Utpal Das  13 November 2018  5.0 out of 5 stars   \n",
       "...                 ...               ...                 ...   \n",
       "5347               Jijo       28 May 2020  5.0 out of 5 stars   \n",
       "5348              S. G.     17 April 2021  1.0 out of 5 stars   \n",
       "5349  Valentino Pereira        9 May 2021  4.0 out of 5 stars   \n",
       "5350          Madhulika     27 April 2021  5.0 out of 5 stars   \n",
       "5351      Tushar_Amazon     31 March 2021  3.0 out of 5 stars   \n",
       "\n",
       "                                                Reviews        Review_title  \n",
       "0       i received defective iphone 7 32GB silver co...  Buy iPhone SE 2020  \n",
       "1       Thanks for Amazon service. phone is very nic...                Good  \n",
       "2       Redmi phones cameras are great, of course iP...      Great phone...  \n",
       "3       If you are an apple fan !! This is a true be...                Good  \n",
       "4       in 20 days i found my battery health 98% whi...                 Wow  \n",
       "...                                                 ...                 ...  \n",
       "5347                                                NaN                 NaN  \n",
       "5348                                                NaN                 NaN  \n",
       "5349                                                NaN                 NaN  \n",
       "5350                                                NaN                 NaN  \n",
       "5351                                                NaN                 NaN  \n",
       "\n",
       "[5352 rows x 5 columns]"
      ]
     },
     "execution_count": 23,
     "metadata": {},
     "output_type": "execute_result"
    }
   ],
   "source": [
    "new_data"
   ]
  },
  {
   "cell_type": "code",
   "execution_count": 28,
   "metadata": {},
   "outputs": [],
   "source": [
    "import pandas as pd\n",
    "df = new_data.to_csv('reviews.csv', index = True)"
   ]
  },
  {
   "cell_type": "code",
   "execution_count": 29,
   "metadata": {},
   "outputs": [],
   "source": [
    "df"
   ]
  },
  {
   "cell_type": "code",
   "execution_count": null,
   "metadata": {},
   "outputs": [],
   "source": []
  }
 ],
 "metadata": {
  "kernelspec": {
   "display_name": "Python 3",
   "language": "python",
   "name": "python3"
  },
  "language_info": {
   "codemirror_mode": {
    "name": "ipython",
    "version": 3
   },
   "file_extension": ".py",
   "mimetype": "text/x-python",
   "name": "python",
   "nbconvert_exporter": "python",
   "pygments_lexer": "ipython3",
   "version": "3.7.4"
  }
 },
 "nbformat": 4,
 "nbformat_minor": 5
}
